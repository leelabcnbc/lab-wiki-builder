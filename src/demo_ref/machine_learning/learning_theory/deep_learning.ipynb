{
 "cells": [
  {
   "cell_type": "markdown",
   "metadata": {},
   "source": [
    "# Deep Learning\n",
    "\n",
    "## Deep Learning models can learn anything, and trick might be in optimization method SGD.\n",
    "\n",
    "C. Zhang, S. Bengio, M. Hardt, B. Recht, and O. Vinyals, “Understanding deep learning requires rethinking generalization,” arXiv, vol. cs.LG, Nov. 2016.\n",
    "\n",
    "Just read the contributions should be fine. Essentially, many theories on generalization don't work on deep learning models.\n",
    "\n",
    "Eric Xing's comments on this paper, from his Facebook:\n",
    "\n",
    "> Not surprisingly, most statistical learning theories on generalization errors cannot be applied on deep learning, and DL is actually not learning any patterns -- they are just memorizing the data.\n",
    "\n",
    "~~~\n",
    "@article{Zhang:2016ve,\n",
    "author = {Zhang, Chiyuan and Bengio, S and Hardt, M and Recht, B and Vinyals, Oriol},\n",
    "title = {{Understanding deep learning requires rethinking generalization}},\n",
    "journal = {ArXiv e-prints},\n",
    "year = {2016},\n",
    "volume = {cs.LG},\n",
    "month = nov,\n",
    "annote = {Just read the contributions should be fine. Essentially, many theories on generalization don't work on deep learning models.\n",
    "\n",
    "Eric Xing's comments on this paper, from his Facebook:\n",
    "\n",
    "Not surprisingly, most statistical learning theories on generalization errors cannot be applied on deep learning, and DL is actually not learning any patterns -- they are just memorizing the data.\n",
    "},\n",
    "keywords = {deep learning},\n",
    "read = {Yes},\n",
    "rating = {4},\n",
    "date-added = {2017-02-14T03:28:49GMT},\n",
    "date-modified = {2017-02-28T18:35:28GMT},\n",
    "url = {http://arxiv.org/abs/1611.03530},\n",
    "local-url = {file://localhost/Users/yimengzh/Documents/Papers3_revised/Library.papers3/Articles/2016/Zhang/arXiv%202016%20Zhang.pdf},\n",
    "file = {{arXiv 2016 Zhang.pdf:/Users/yimengzh/Documents/Papers3_revised/Library.papers3/Articles/2016/Zhang/arXiv 2016 Zhang.pdf:application/pdf}},\n",
    "uri = {\\url{papers3://publication/uuid/D566AE84-4CA7-4A74-9FCB-637EA4CA0854}}\n",
    "}\n",
    "~~~"
   ]
  }
 ],
 "metadata": {
  "kernelspec": {
   "display_name": "Python 3",
   "language": "python",
   "name": "python3"
  },
  "language_info": {
   "codemirror_mode": {
    "name": "ipython",
    "version": 3
   },
   "file_extension": ".py",
   "mimetype": "text/x-python",
   "name": "python",
   "nbconvert_exporter": "python",
   "pygments_lexer": "ipython3",
   "version": "3.5.2"
  }
 },
 "nbformat": 4,
 "nbformat_minor": 1
}
